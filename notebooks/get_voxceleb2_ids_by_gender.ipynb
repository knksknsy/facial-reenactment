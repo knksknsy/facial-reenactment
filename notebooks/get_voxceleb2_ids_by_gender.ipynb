{
 "metadata": {
  "language_info": {
   "codemirror_mode": {
    "name": "ipython",
    "version": 3
   },
   "file_extension": ".py",
   "mimetype": "text/x-python",
   "name": "python",
   "nbconvert_exporter": "python",
   "pygments_lexer": "ipython3",
   "version": "3.8.5-final"
  },
  "orig_nbformat": 2,
  "kernelspec": {
   "name": "python3",
   "display_name": "Python 3",
   "language": "python"
  }
 },
 "nbformat": 4,
 "nbformat_minor": 2,
 "cells": [
  {
   "cell_type": "code",
   "execution_count": 51,
   "metadata": {},
   "outputs": [],
   "source": [
    "import pandas as pd"
   ]
  },
  {
   "cell_type": "code",
   "execution_count": 52,
   "metadata": {},
   "outputs": [
    {
     "output_type": "execute_result",
     "data": {
      "text/plain": [
       "(6114, 4)"
      ]
     },
     "metadata": {},
     "execution_count": 52
    }
   ],
   "source": [
    "csv_path = '/home/kaan/Repositories/facial-reenactment/notebooks/vox2_meta.csv'\n",
    "data_frame = pd.read_csv(csv_path, sep=r',', header=0)\n",
    "data_frame.shape"
   ]
  },
  {
   "cell_type": "code",
   "execution_count": 53,
   "metadata": {},
   "outputs": [
    {
     "output_type": "execute_result",
     "data": {
      "text/plain": [
       "(5994, 4)"
      ]
     },
     "metadata": {},
     "execution_count": 53
    }
   ],
   "source": [
    "df_dev = data_frame[data_frame['Set '] == 'dev ']\n",
    "df_dev.shape"
   ]
  },
  {
   "cell_type": "code",
   "execution_count": 54,
   "metadata": {},
   "outputs": [
    {
     "output_type": "execute_result",
     "data": {
      "text/plain": [
       "(3682, 4)"
      ]
     },
     "metadata": {},
     "execution_count": 54
    }
   ],
   "source": [
    "df_dev_m = df_dev[df_dev['Gender '] == 'm ']\n",
    "df_dev_m.shape"
   ]
  },
  {
   "cell_type": "code",
   "execution_count": 55,
   "metadata": {},
   "outputs": [
    {
     "output_type": "execute_result",
     "data": {
      "text/plain": [
       "(2312, 4)"
      ]
     },
     "metadata": {},
     "execution_count": 55
    }
   ],
   "source": [
    "df_dev_f = df_dev[df_dev['Gender '] == 'f ']\n",
    "df_dev_f.shape"
   ]
  },
  {
   "cell_type": "code",
   "execution_count": 56,
   "metadata": {},
   "outputs": [
    {
     "output_type": "execute_result",
     "data": {
      "text/plain": [
       "  VoxCeleb2 ID  VGGFace2 ID  Gender   Set \n",
       "0      id00012      n000012       m   dev \n",
       "1      id00015      n000015       m   dev \n",
       "2      id00016      n000016       m   dev \n",
       "4      id00018      n000018       m   dev \n",
       "5      id00019      n000019       m   dev "
      ],
      "text/html": "<div>\n<style scoped>\n    .dataframe tbody tr th:only-of-type {\n        vertical-align: middle;\n    }\n\n    .dataframe tbody tr th {\n        vertical-align: top;\n    }\n\n    .dataframe thead th {\n        text-align: right;\n    }\n</style>\n<table border=\"1\" class=\"dataframe\">\n  <thead>\n    <tr style=\"text-align: right;\">\n      <th></th>\n      <th>VoxCeleb2 ID</th>\n      <th>VGGFace2 ID</th>\n      <th>Gender</th>\n      <th>Set</th>\n    </tr>\n  </thead>\n  <tbody>\n    <tr>\n      <th>0</th>\n      <td>id00012</td>\n      <td>n000012</td>\n      <td>m</td>\n      <td>dev</td>\n    </tr>\n    <tr>\n      <th>1</th>\n      <td>id00015</td>\n      <td>n000015</td>\n      <td>m</td>\n      <td>dev</td>\n    </tr>\n    <tr>\n      <th>2</th>\n      <td>id00016</td>\n      <td>n000016</td>\n      <td>m</td>\n      <td>dev</td>\n    </tr>\n    <tr>\n      <th>4</th>\n      <td>id00018</td>\n      <td>n000018</td>\n      <td>m</td>\n      <td>dev</td>\n    </tr>\n    <tr>\n      <th>5</th>\n      <td>id00019</td>\n      <td>n000019</td>\n      <td>m</td>\n      <td>dev</td>\n    </tr>\n  </tbody>\n</table>\n</div>"
     },
     "metadata": {},
     "execution_count": 56
    }
   ],
   "source": [
    "df_dev_m.head()"
   ]
  },
  {
   "cell_type": "code",
   "execution_count": 57,
   "metadata": {},
   "outputs": [
    {
     "output_type": "execute_result",
     "data": {
      "text/plain": [
       "   VoxCeleb2 ID  VGGFace2 ID  Gender   Set \n",
       "8       id00022      n000022       f   dev \n",
       "9       id00024      n000024       f   dev \n",
       "10      id00025      n000025       f   dev \n",
       "19      id00039      n000039       f   dev \n",
       "22      id00043      n000043       f   dev "
      ],
      "text/html": "<div>\n<style scoped>\n    .dataframe tbody tr th:only-of-type {\n        vertical-align: middle;\n    }\n\n    .dataframe tbody tr th {\n        vertical-align: top;\n    }\n\n    .dataframe thead th {\n        text-align: right;\n    }\n</style>\n<table border=\"1\" class=\"dataframe\">\n  <thead>\n    <tr style=\"text-align: right;\">\n      <th></th>\n      <th>VoxCeleb2 ID</th>\n      <th>VGGFace2 ID</th>\n      <th>Gender</th>\n      <th>Set</th>\n    </tr>\n  </thead>\n  <tbody>\n    <tr>\n      <th>8</th>\n      <td>id00022</td>\n      <td>n000022</td>\n      <td>f</td>\n      <td>dev</td>\n    </tr>\n    <tr>\n      <th>9</th>\n      <td>id00024</td>\n      <td>n000024</td>\n      <td>f</td>\n      <td>dev</td>\n    </tr>\n    <tr>\n      <th>10</th>\n      <td>id00025</td>\n      <td>n000025</td>\n      <td>f</td>\n      <td>dev</td>\n    </tr>\n    <tr>\n      <th>19</th>\n      <td>id00039</td>\n      <td>n000039</td>\n      <td>f</td>\n      <td>dev</td>\n    </tr>\n    <tr>\n      <th>22</th>\n      <td>id00043</td>\n      <td>n000043</td>\n      <td>f</td>\n      <td>dev</td>\n    </tr>\n  </tbody>\n</table>\n</div>"
     },
     "metadata": {},
     "execution_count": 57
    }
   ],
   "source": [
    "df_dev_f.head()"
   ]
  },
  {
   "cell_type": "code",
   "execution_count": 77,
   "metadata": {},
   "outputs": [
    {
     "output_type": "execute_result",
     "data": {
      "text/plain": [
       "['id02149',\n",
       " 'id08892',\n",
       " 'id08339',\n",
       " 'id04305',\n",
       " 'id05345',\n",
       " 'id07658',\n",
       " 'id08623',\n",
       " 'id02152',\n",
       " 'id02191',\n",
       " 'id01883',\n",
       " 'id03037',\n",
       " 'id08290',\n",
       " 'id07151',\n",
       " 'id06838',\n",
       " 'id01081',\n",
       " 'id06848',\n",
       " 'id02081',\n",
       " 'id07306',\n",
       " 'id08804',\n",
       " 'id07335',\n",
       " 'id04459',\n",
       " 'id04941',\n",
       " 'id05568',\n",
       " 'id05262',\n",
       " 'id00597',\n",
       " 'id03931',\n",
       " 'id06432',\n",
       " 'id04524',\n",
       " 'id09070',\n",
       " 'id06143',\n",
       " 'id08259',\n",
       " 'id00991',\n",
       " 'id08454',\n",
       " 'id09231',\n",
       " 'id03540',\n",
       " 'id09029',\n",
       " 'id07520',\n",
       " 'id03904',\n",
       " 'id08747',\n",
       " 'id02037',\n",
       " 'id03609',\n",
       " 'id04737',\n",
       " 'id00519',\n",
       " 'id07550',\n",
       " 'id01685',\n",
       " 'id08649',\n",
       " 'id02038',\n",
       " 'id06497',\n",
       " 'id03262',\n",
       " 'id06753']"
      ]
     },
     "metadata": {},
     "execution_count": 77
    }
   ],
   "source": [
    "male_ids = df_dev_m.sample(n=50)\n",
    "male_ids = male_ids['VoxCeleb2 ID '].str.strip().tolist()\n",
    "male_ids"
   ]
  },
  {
   "cell_type": "code",
   "execution_count": 78,
   "metadata": {},
   "outputs": [
    {
     "output_type": "execute_result",
     "data": {
      "text/plain": [
       "['id02475',\n",
       " 'id04245',\n",
       " 'id03003',\n",
       " 'id02724',\n",
       " 'id04690',\n",
       " 'id00515',\n",
       " 'id01316',\n",
       " 'id04838',\n",
       " 'id03455',\n",
       " 'id01578',\n",
       " 'id00735',\n",
       " 'id05966',\n",
       " 'id06399',\n",
       " 'id02455',\n",
       " 'id03345',\n",
       " 'id06061',\n",
       " 'id05372',\n",
       " 'id06328',\n",
       " 'id05308',\n",
       " 'id00763',\n",
       " 'id04675',\n",
       " 'id07991',\n",
       " 'id05581',\n",
       " 'id04049',\n",
       " 'id03822',\n",
       " 'id07255',\n",
       " 'id08549',\n",
       " 'id00104',\n",
       " 'id05314',\n",
       " 'id01317',\n",
       " 'id04545',\n",
       " 'id05772',\n",
       " 'id05710',\n",
       " 'id08801',\n",
       " 'id01870',\n",
       " 'id08481',\n",
       " 'id00570',\n",
       " 'id05441',\n",
       " 'id03100',\n",
       " 'id07685',\n",
       " 'id00892',\n",
       " 'id04027',\n",
       " 'id04132',\n",
       " 'id08917',\n",
       " 'id00328',\n",
       " 'id06377',\n",
       " 'id07560',\n",
       " 'id01455',\n",
       " 'id00359',\n",
       " 'id01187']"
      ]
     },
     "metadata": {},
     "execution_count": 78
    }
   ],
   "source": [
    "female_ids = df_dev_f.sample(n=50)\n",
    "female_ids = female_ids['VoxCeleb2 ID '].str.strip().tolist()\n",
    "female_ids"
   ]
  },
  {
   "cell_type": "code",
   "execution_count": 80,
   "metadata": {},
   "outputs": [
    {
     "output_type": "execute_result",
     "data": {
      "text/plain": [
       "['id02149',\n",
       " 'id08892',\n",
       " 'id08339',\n",
       " 'id04305',\n",
       " 'id05345',\n",
       " 'id07658',\n",
       " 'id08623',\n",
       " 'id02152',\n",
       " 'id02191',\n",
       " 'id01883',\n",
       " 'id03037',\n",
       " 'id08290',\n",
       " 'id07151',\n",
       " 'id06838',\n",
       " 'id01081',\n",
       " 'id06848',\n",
       " 'id02081',\n",
       " 'id07306',\n",
       " 'id08804',\n",
       " 'id07335',\n",
       " 'id04459',\n",
       " 'id04941',\n",
       " 'id05568',\n",
       " 'id05262',\n",
       " 'id00597',\n",
       " 'id03931',\n",
       " 'id06432',\n",
       " 'id04524',\n",
       " 'id09070',\n",
       " 'id06143',\n",
       " 'id08259',\n",
       " 'id00991',\n",
       " 'id08454',\n",
       " 'id09231',\n",
       " 'id03540',\n",
       " 'id09029',\n",
       " 'id07520',\n",
       " 'id03904',\n",
       " 'id08747',\n",
       " 'id02037',\n",
       " 'id03609',\n",
       " 'id04737',\n",
       " 'id00519',\n",
       " 'id07550',\n",
       " 'id01685',\n",
       " 'id08649',\n",
       " 'id02038',\n",
       " 'id06497',\n",
       " 'id03262',\n",
       " 'id06753',\n",
       " 'id02475',\n",
       " 'id04245',\n",
       " 'id03003',\n",
       " 'id02724',\n",
       " 'id04690',\n",
       " 'id00515',\n",
       " 'id01316',\n",
       " 'id04838',\n",
       " 'id03455',\n",
       " 'id01578',\n",
       " 'id00735',\n",
       " 'id05966',\n",
       " 'id06399',\n",
       " 'id02455',\n",
       " 'id03345',\n",
       " 'id06061',\n",
       " 'id05372',\n",
       " 'id06328',\n",
       " 'id05308',\n",
       " 'id00763',\n",
       " 'id04675',\n",
       " 'id07991',\n",
       " 'id05581',\n",
       " 'id04049',\n",
       " 'id03822',\n",
       " 'id07255',\n",
       " 'id08549',\n",
       " 'id00104',\n",
       " 'id05314',\n",
       " 'id01317',\n",
       " 'id04545',\n",
       " 'id05772',\n",
       " 'id05710',\n",
       " 'id08801',\n",
       " 'id01870',\n",
       " 'id08481',\n",
       " 'id00570',\n",
       " 'id05441',\n",
       " 'id03100',\n",
       " 'id07685',\n",
       " 'id00892',\n",
       " 'id04027',\n",
       " 'id04132',\n",
       " 'id08917',\n",
       " 'id00328',\n",
       " 'id06377',\n",
       " 'id07560',\n",
       " 'id01455',\n",
       " 'id00359',\n",
       " 'id01187']"
      ]
     },
     "metadata": {},
     "execution_count": 80
    }
   ],
   "source": [
    "ids = male_ids + female_ids\n",
    "ids"
   ]
  }
 ]
}